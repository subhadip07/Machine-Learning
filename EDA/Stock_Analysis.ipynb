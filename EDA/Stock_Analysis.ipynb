{
  "cells": [
    {
      "cell_type": "markdown",
      "metadata": {
        "id": "5cXRfzSD6KF6"
      },
      "source": [
        "# Data exploration using Non-parametric method\n"
      ]
    },
    {
      "cell_type": "markdown",
      "metadata": {
        "id": "P8-wl37rvnnp"
      },
      "source": [
        "## Data Source: https://www.kaggle.com/datasets/camnugent/sandp500\n",
        "\n"
      ]
    },
    {
      "cell_type": "markdown",
      "metadata": {
        "id": "UE3ud7VGvr9b"
      },
      "source": [
        "## Data Description:\n",
        "* Date - in format: yy-mm-dd\n",
        "* Open - price of the stock at market open (this is NYSE data so all in USD)\n",
        "* High - Highest price reached in the day\n",
        "* Low Close - Lowest price reached in the day\n",
        "* Volume - Number of shares traded\n",
        "* Name - the stock's ticker name"
      ]
    },
    {
      "cell_type": "markdown",
      "metadata": {
        "id": "jqYN5JT-68oR"
      },
      "source": [
        "# Importing the Python libraries"
      ]
    },
    {
      "cell_type": "code",
      "execution_count": 1,
      "metadata": {
        "id": "b0a9twV92yMj"
      },
      "outputs": [
        {
          "name": "stderr",
          "output_type": "stream",
          "text": [
            "C:\\Users\\subhadip\\AppData\\Local\\Temp\\ipykernel_16100\\1366987544.py:2: DeprecationWarning: \n",
            "Pyarrow will become a required dependency of pandas in the next major release of pandas (pandas 3.0),\n",
            "(to allow more performant data types, such as the Arrow string type, and better interoperability with other libraries)\n",
            "but was not found to be installed on your system.\n",
            "If this would cause problems for you,\n",
            "please provide us feedback at https://github.com/pandas-dev/pandas/issues/54466\n",
            "        \n",
            "  import pandas as pd\n"
          ]
        },
        {
          "ename": "ModuleNotFoundError",
          "evalue": "No module named 'scipy'",
          "output_type": "error",
          "traceback": [
            "\u001b[1;31m---------------------------------------------------------------------------\u001b[0m",
            "\u001b[1;31mModuleNotFoundError\u001b[0m                       Traceback (most recent call last)",
            "Cell \u001b[1;32mIn[1], line 3\u001b[0m\n\u001b[0;32m      1\u001b[0m \u001b[38;5;28;01mimport\u001b[39;00m \u001b[38;5;21;01mnumpy\u001b[39;00m \u001b[38;5;28;01mas\u001b[39;00m \u001b[38;5;21;01mnp\u001b[39;00m\n\u001b[0;32m      2\u001b[0m \u001b[38;5;28;01mimport\u001b[39;00m \u001b[38;5;21;01mpandas\u001b[39;00m \u001b[38;5;28;01mas\u001b[39;00m \u001b[38;5;21;01mpd\u001b[39;00m\n\u001b[1;32m----> 3\u001b[0m \u001b[38;5;28;01mfrom\u001b[39;00m \u001b[38;5;21;01mscipy\u001b[39;00m \u001b[38;5;28;01mimport\u001b[39;00m stats\n\u001b[0;32m      4\u001b[0m \u001b[38;5;28;01mimport\u001b[39;00m \u001b[38;5;21;01mseaborn\u001b[39;00m \u001b[38;5;28;01mas\u001b[39;00m \u001b[38;5;21;01msns\u001b[39;00m\n\u001b[0;32m      5\u001b[0m \u001b[38;5;28;01mimport\u001b[39;00m \u001b[38;5;21;01mmatplotlib\u001b[39;00m\u001b[38;5;21;01m.\u001b[39;00m\u001b[38;5;21;01mpyplot\u001b[39;00m \u001b[38;5;28;01mas\u001b[39;00m \u001b[38;5;21;01mplt\u001b[39;00m\n",
            "\u001b[1;31mModuleNotFoundError\u001b[0m: No module named 'scipy'"
          ]
        }
      ],
      "source": [
        "import numpy as np\n",
        "import pandas as pd\n",
        "from scipy import stats\n",
        "import seaborn as sns\n",
        "import matplotlib.pyplot as plt"
      ]
    },
    {
      "cell_type": "markdown",
      "metadata": {
        "id": "GHfwx3jr7LVH"
      },
      "source": [
        "# Loading the dataset runtime environment"
      ]
    },
    {
      "cell_type": "code",
      "execution_count": null,
      "metadata": {
        "colab": {
          "base_uri": "https://localhost:8080/",
          "height": 423
        },
        "id": "2hmtmo3J4eOV",
        "outputId": "04e766df-459d-41a2-f089-05a133d05ab2"
      },
      "outputs": [
        {
          "ename": "",
          "evalue": "",
          "output_type": "error",
          "traceback": [
            "\u001b[1;31mRunning cells with 'c:\\Users\\subhadip\\AppData\\Local\\Programs\\Python\\Python311\\python.exe' requires the ipykernel package.\n",
            "\u001b[1;31mRun the following command to install 'ipykernel' into the Python environment. \n",
            "\u001b[1;31mCommand: 'c:/Users/subhadip/AppData/Local/Programs/Python/Python311/python.exe -m pip install ipykernel -U --user --force-reinstall'"
          ]
        }
      ],
      "source": [
        "df1=pd.read_csv(\"/content/AAPL_data.csv\")\n",
        "df1"
      ]
    },
    {
      "cell_type": "code",
      "execution_count": null,
      "metadata": {},
      "outputs": [
        {
          "ename": "",
          "evalue": "",
          "output_type": "error",
          "traceback": [
            "\u001b[1;31mRunning cells with 'c:\\Users\\subhadip\\AppData\\Local\\Programs\\Python\\Python311\\python.exe' requires the ipykernel package.\n",
            "\u001b[1;31mRun the following command to install 'ipykernel' into the Python environment. \n",
            "\u001b[1;31mCommand: 'c:/Users/subhadip/AppData/Local/Programs/Python/Python311/python.exe -m pip install ipykernel -U --user --force-reinstall'"
          ]
        }
      ],
      "source": []
    },
    {
      "cell_type": "code",
      "execution_count": null,
      "metadata": {
        "colab": {
          "base_uri": "https://localhost:8080/",
          "height": 423
        },
        "id": "uow2qVBN4lo2",
        "outputId": "831c678b-3e08-49cb-c83e-fe749fe981da"
      },
      "outputs": [
        {
          "ename": "",
          "evalue": "",
          "output_type": "error",
          "traceback": [
            "\u001b[1;31mRunning cells with 'c:\\Users\\subhadip\\AppData\\Local\\Programs\\Python\\Python311\\python.exe' requires the ipykernel package.\n",
            "\u001b[1;31mRun the following command to install 'ipykernel' into the Python environment. \n",
            "\u001b[1;31mCommand: 'c:/Users/subhadip/AppData/Local/Programs/Python/Python311/python.exe -m pip install ipykernel -U --user --force-reinstall'"
          ]
        }
      ],
      "source": [
        "df2=pd.read_csv(\"/content/ABC_data.csv\")\n",
        "df2"
      ]
    },
    {
      "cell_type": "markdown",
      "metadata": {
        "id": "U_BE1zr-7RDF"
      },
      "source": [
        "## Displaying the Columns in dataset 1 and 2"
      ]
    },
    {
      "cell_type": "code",
      "execution_count": null,
      "metadata": {
        "colab": {
          "base_uri": "https://localhost:8080/"
        },
        "id": "VvaQdCiJ4617",
        "outputId": "d9da6707-5b08-4a32-8bd0-79f26aed1ec6"
      },
      "outputs": [
        {
          "ename": "",
          "evalue": "",
          "output_type": "error",
          "traceback": [
            "\u001b[1;31mRunning cells with 'c:\\Users\\subhadip\\AppData\\Local\\Programs\\Python\\Python311\\python.exe' requires the ipykernel package.\n",
            "\u001b[1;31mRun the following command to install 'ipykernel' into the Python environment. \n",
            "\u001b[1;31mCommand: 'c:/Users/subhadip/AppData/Local/Programs/Python/Python311/python.exe -m pip install ipykernel -U --user --force-reinstall'"
          ]
        }
      ],
      "source": [
        "print(f\"Columns of data1 is: {df1.columns}\")\n",
        "print(f\"Columns of data2 is:  {df2.columns}\")"
      ]
    },
    {
      "cell_type": "markdown",
      "metadata": {
        "id": "NLVpVa3I8OGj"
      },
      "source": [
        "# Information about both the datasets"
      ]
    },
    {
      "cell_type": "code",
      "execution_count": null,
      "metadata": {
        "colab": {
          "base_uri": "https://localhost:8080/"
        },
        "id": "rCKDXg1T6BJo",
        "outputId": "af145a51-13ef-4872-b4ea-a09e5ea231a4"
      },
      "outputs": [
        {
          "ename": "",
          "evalue": "",
          "output_type": "error",
          "traceback": [
            "\u001b[1;31mRunning cells with 'c:\\Users\\subhadip\\AppData\\Local\\Programs\\Python\\Python311\\python.exe' requires the ipykernel package.\n",
            "\u001b[1;31mRun the following command to install 'ipykernel' into the Python environment. \n",
            "\u001b[1;31mCommand: 'c:/Users/subhadip/AppData/Local/Programs/Python/Python311/python.exe -m pip install ipykernel -U --user --force-reinstall'"
          ]
        }
      ],
      "source": [
        "print(f\"Displaying infomation about the data1:  {df1.info()}\")"
      ]
    },
    {
      "cell_type": "code",
      "execution_count": null,
      "metadata": {
        "colab": {
          "base_uri": "https://localhost:8080/"
        },
        "id": "cpdpIPR88EMx",
        "outputId": "f8fc8872-3d31-4bd6-9924-bc698478e3b6"
      },
      "outputs": [
        {
          "ename": "",
          "evalue": "",
          "output_type": "error",
          "traceback": [
            "\u001b[1;31mRunning cells with 'c:\\Users\\subhadip\\AppData\\Local\\Programs\\Python\\Python311\\python.exe' requires the ipykernel package.\n",
            "\u001b[1;31mRun the following command to install 'ipykernel' into the Python environment. \n",
            "\u001b[1;31mCommand: 'c:/Users/subhadip/AppData/Local/Programs/Python/Python311/python.exe -m pip install ipykernel -U --user --force-reinstall'"
          ]
        }
      ],
      "source": [
        "print(f\"Displaying infomation about the data2:  {df2.info()}\")"
      ]
    },
    {
      "cell_type": "markdown",
      "metadata": {
        "id": "qycOuLFC9Em9"
      },
      "source": [
        "## Checking for missing values for both the data-1 and data-2"
      ]
    },
    {
      "cell_type": "code",
      "execution_count": null,
      "metadata": {
        "colab": {
          "base_uri": "https://localhost:8080/"
        },
        "id": "7LDCs0Vr-aIO",
        "outputId": "0aaf609d-2801-4cca-9571-dd029a2b51b6"
      },
      "outputs": [
        {
          "ename": "",
          "evalue": "",
          "output_type": "error",
          "traceback": [
            "\u001b[1;31mRunning cells with 'c:\\Users\\subhadip\\AppData\\Local\\Programs\\Python\\Python311\\python.exe' requires the ipykernel package.\n",
            "\u001b[1;31mRun the following command to install 'ipykernel' into the Python environment. \n",
            "\u001b[1;31mCommand: 'c:/Users/subhadip/AppData/Local/Programs/Python/Python311/python.exe -m pip install ipykernel -U --user --force-reinstall'"
          ]
        }
      ],
      "source": [
        "df1.isnull().sum()"
      ]
    },
    {
      "cell_type": "code",
      "execution_count": null,
      "metadata": {
        "colab": {
          "base_uri": "https://localhost:8080/"
        },
        "id": "LcftZZW4-pPj",
        "outputId": "80079e70-32fd-4d3f-ded7-b6d0f8aa7bc7"
      },
      "outputs": [
        {
          "ename": "",
          "evalue": "",
          "output_type": "error",
          "traceback": [
            "\u001b[1;31mRunning cells with 'c:\\Users\\subhadip\\AppData\\Local\\Programs\\Python\\Python311\\python.exe' requires the ipykernel package.\n",
            "\u001b[1;31mRun the following command to install 'ipykernel' into the Python environment. \n",
            "\u001b[1;31mCommand: 'c:/Users/subhadip/AppData/Local/Programs/Python/Python311/python.exe -m pip install ipykernel -U --user --force-reinstall'"
          ]
        }
      ],
      "source": [
        "df2.isnull().sum()"
      ]
    },
    {
      "cell_type": "markdown",
      "metadata": {
        "id": "Snq-BFy1-r9l"
      },
      "source": [
        "# Univariate Analysis:\n",
        "### For numerical variables:"
      ]
    },
    {
      "cell_type": "markdown",
      "metadata": {
        "id": "L-l3Ywlm--EX"
      },
      "source": [
        "### Calculating basic descriptive statistics"
      ]
    },
    {
      "cell_type": "code",
      "execution_count": null,
      "metadata": {
        "colab": {
          "base_uri": "https://localhost:8080/"
        },
        "id": "1bbcC3iL8bI3",
        "outputId": "a631b2d4-6380-4ad5-bb21-523e5ea65b7c"
      },
      "outputs": [
        {
          "ename": "",
          "evalue": "",
          "output_type": "error",
          "traceback": [
            "\u001b[1;31mRunning cells with 'c:\\Users\\subhadip\\AppData\\Local\\Programs\\Python\\Python311\\python.exe' requires the ipykernel package.\n",
            "\u001b[1;31mRun the following command to install 'ipykernel' into the Python environment. \n",
            "\u001b[1;31mCommand: 'c:/Users/subhadip/AppData/Local/Programs/Python/Python311/python.exe -m pip install ipykernel -U --user --force-reinstall'"
          ]
        }
      ],
      "source": [
        "print(f\"Description of data-1 is: \\n {df1.describe()}\")"
      ]
    },
    {
      "cell_type": "code",
      "execution_count": null,
      "metadata": {
        "colab": {
          "base_uri": "https://localhost:8080/"
        },
        "id": "peHbsuDx8yip",
        "outputId": "e671608b-70f3-4060-b34e-275f6c6d5ba3"
      },
      "outputs": [
        {
          "ename": "",
          "evalue": "",
          "output_type": "error",
          "traceback": [
            "\u001b[1;31mRunning cells with 'c:\\Users\\subhadip\\AppData\\Local\\Programs\\Python\\Python311\\python.exe' requires the ipykernel package.\n",
            "\u001b[1;31mRun the following command to install 'ipykernel' into the Python environment. \n",
            "\u001b[1;31mCommand: 'c:/Users/subhadip/AppData/Local/Programs/Python/Python311/python.exe -m pip install ipykernel -U --user --force-reinstall'"
          ]
        }
      ],
      "source": [
        "print(f\"Description of data-2 is: \\n {df2.describe()}\")"
      ]
    },
    {
      "cell_type": "markdown",
      "metadata": {
        "id": "QWbTcf4T_lqi"
      },
      "source": [
        "### Visualize the distribution using histograms, kernel density plots, or box plots."
      ]
    },
    {
      "cell_type": "code",
      "execution_count": null,
      "metadata": {
        "colab": {
          "base_uri": "https://localhost:8080/",
          "height": 1000
        },
        "id": "cc58WlHA-9b3",
        "outputId": "7e6b5cde-f608-437a-9471-b60e19827368"
      },
      "outputs": [
        {
          "ename": "",
          "evalue": "",
          "output_type": "error",
          "traceback": [
            "\u001b[1;31mRunning cells with 'c:\\Users\\subhadip\\AppData\\Local\\Programs\\Python\\Python311\\python.exe' requires the ipykernel package.\n",
            "\u001b[1;31mRun the following command to install 'ipykernel' into the Python environment. \n",
            "\u001b[1;31mCommand: 'c:/Users/subhadip/AppData/Local/Programs/Python/Python311/python.exe -m pip install ipykernel -U --user --force-reinstall'"
          ]
        }
      ],
      "source": [
        "# Set up the figure and axes\n",
        "fig, axes = plt.subplots(nrows=2, ncols=2, figsize=(14, 12))\n",
        "plt.subplots_adjust(hspace=0.4)\n",
        "\n",
        "# Histograms\n",
        "sns.histplot(df1['open'], ax=axes[0, 0], kde=True, bins=20, color='skyblue')\n",
        "axes[0, 0].set_title('Histogram of Open Prices(data-1)')\n",
        "\n",
        "sns.histplot(df1['close'], ax=axes[0, 1], kde=True, bins=20, color='orange')\n",
        "axes[1, 1].set_title('Histogram of Close Prices((data-1))')\n",
        "\n",
        "# Histograms\n",
        "sns.histplot(df2['open'], ax=axes[1, 0], kde=True, bins=20, color='skyblue')\n",
        "axes[0, 0].set_title('Histogram of Open Prices(data-2)')\n",
        "\n",
        "sns.histplot(df2['close'], ax=axes[1, 1], kde=True, bins=20, color='orange')\n",
        "axes[1, 1].set_title('Histogram of Close Prices(data-2)')\n",
        "\n",
        "# # Box plots\n",
        "# sns.boxplot(df1['volume'], ax=axes[2, 0], color='purple')\n",
        "# axes[2, 0].set_title('Box Plot of Volume')\n",
        "\n",
        "# Hide the empty subplot\n",
        "#axes[2, 1].axis('off')\n",
        "\n",
        "plt.show()\n"
      ]
    },
    {
      "cell_type": "markdown",
      "metadata": {
        "id": "sqPJNqWSDntA"
      },
      "source": [
        "### Box plot for Stock 1 and Stock 2"
      ]
    },
    {
      "cell_type": "code",
      "execution_count": null,
      "metadata": {
        "colab": {
          "base_uri": "https://localhost:8080/",
          "height": 564
        },
        "id": "wgejYSv1Dkll",
        "outputId": "8ef8c7fc-36a6-4535-fd13-ce2e19dc0fec"
      },
      "outputs": [
        {
          "ename": "",
          "evalue": "",
          "output_type": "error",
          "traceback": [
            "\u001b[1;31mRunning cells with 'c:\\Users\\subhadip\\AppData\\Local\\Programs\\Python\\Python311\\python.exe' requires the ipykernel package.\n",
            "\u001b[1;31mRun the following command to install 'ipykernel' into the Python environment. \n",
            "\u001b[1;31mCommand: 'c:/Users/subhadip/AppData/Local/Programs/Python/Python311/python.exe -m pip install ipykernel -U --user --force-reinstall'"
          ]
        }
      ],
      "source": [
        "# Combine 'open' prices from df1 and df2 into a single DataFrame\n",
        "combined_df = pd.concat([df1['open'], df2['open']], axis=1)\n",
        "combined_df.columns = ['Open Prices - df1', 'Open Prices - df2']\n",
        "\n",
        "# Plotting the box plot\n",
        "plt.figure(figsize=(10, 6))\n",
        "sns.boxplot(data=combined_df)\n",
        "plt.title('Box Plot of Open Prices')\n",
        "plt.ylabel('Open Price')\n",
        "plt.xlabel('Dataframe')\n",
        "plt.show()"
      ]
    },
    {
      "cell_type": "markdown",
      "metadata": {
        "id": "5fjp1sKqGdgP"
      },
      "source": [
        "* prices of stock 1 and stock 2 over the period of 5 years"
      ]
    },
    {
      "cell_type": "markdown",
      "metadata": {
        "id": "Ak_ZDrECEMaM"
      },
      "source": [
        "## 5. Bivariate Analysis:\n",
        "\n",
        "* Explore relationships between pairs of numerical variables using scatter plots\n",
        "or pair plots."
      ]
    },
    {
      "cell_type": "code",
      "execution_count": null,
      "metadata": {
        "colab": {
          "base_uri": "https://localhost:8080/",
          "height": 513
        },
        "id": "rivX1jPLEsLJ",
        "outputId": "cf61204b-d41c-4a2b-db2f-c32e713db30b"
      },
      "outputs": [
        {
          "ename": "",
          "evalue": "",
          "output_type": "error",
          "traceback": [
            "\u001b[1;31mRunning cells with 'c:\\Users\\subhadip\\AppData\\Local\\Programs\\Python\\Python311\\python.exe' requires the ipykernel package.\n",
            "\u001b[1;31mRun the following command to install 'ipykernel' into the Python environment. \n",
            "\u001b[1;31mCommand: 'c:/Users/subhadip/AppData/Local/Programs/Python/Python311/python.exe -m pip install ipykernel -U --user --force-reinstall'"
          ]
        }
      ],
      "source": [
        "combined_df.columns = ['Open_prices_df1', 'Open_prices_df2']\n",
        "\n",
        "# Plotting pair plot with adjusted layout\n",
        "sns.set(style=\"ticks\", color_codes=True)\n",
        "g = sns.pairplot(combined_df)\n",
        "plt.subplots_adjust(top=0.9)  # Adjust the top margin\n",
        "g.fig.suptitle('Pair Plot of Open Prices from df1 and df2')\n",
        "plt.show()"
      ]
    },
    {
      "cell_type": "markdown",
      "metadata": {
        "id": "f8N-3psEmRnm"
      },
      "source": [
        "## Calculating correlation coefficients between numerical variables."
      ]
    },
    {
      "cell_type": "code",
      "execution_count": null,
      "metadata": {
        "colab": {
          "base_uri": "https://localhost:8080/"
        },
        "id": "RqKW27deG6ES",
        "outputId": "961679cc-8690-4765-d11a-c4a17edb9a3b"
      },
      "outputs": [
        {
          "ename": "",
          "evalue": "",
          "output_type": "error",
          "traceback": [
            "\u001b[1;31mRunning cells with 'c:\\Users\\subhadip\\AppData\\Local\\Programs\\Python\\Python311\\python.exe' requires the ipykernel package.\n",
            "\u001b[1;31mRun the following command to install 'ipykernel' into the Python environment. \n",
            "\u001b[1;31mCommand: 'c:/Users/subhadip/AppData/Local/Programs/Python/Python311/python.exe -m pip install ipykernel -U --user --force-reinstall'"
          ]
        }
      ],
      "source": [
        "num1=['open','close','volume']\n",
        "num2=['open','close','volume']\n",
        "# Calculate correlation coefficients for 'volume' index in df1\n",
        "correlation_volume_df1 = df1[num1].corr()\n",
        "\n",
        "# Calculate correlation coefficients for 'volume' index in df2\n",
        "correlation_volume_df2 = df2[num2].corr()\n",
        "\n",
        "print(\"Correlation Coefficient for 'Open', 'close' and 'volume' index in df1: \\n\", correlation_volume_df1)\n",
        "print(\"\\n\")\n",
        "print(\"Correlation Coefficient for 'Open', 'close' and 'volume' index in df2: \\n\", correlation_volume_df2)\n"
      ]
    },
    {
      "cell_type": "markdown",
      "metadata": {
        "id": "0eSDBv8GI6Jw"
      },
      "source": [
        "## Interpretation of Correlation coefficient\n",
        "* 1.0: Perfect Positive Correlation\n",
        "* -1.0: Perfect Negative Correlation\n",
        "* 0: No correlation"
      ]
    },
    {
      "cell_type": "markdown",
      "metadata": {
        "id": "3SdGH1xJJl5K"
      },
      "source": [
        "## 6. Non-parametric Methods:"
      ]
    },
    {
      "cell_type": "markdown",
      "metadata": {
        "id": "JN0s1Xt5KiVC"
      },
      "source": [
        "### Spearman rank correlation for assessing monotonic relationships between numerical variables."
      ]
    },
    {
      "cell_type": "code",
      "execution_count": null,
      "metadata": {
        "colab": {
          "base_uri": "https://localhost:8080/"
        },
        "id": "GyBjmjCQLBTa",
        "outputId": "129aec9f-bc8a-4e8c-f86f-6a2ef9b68698"
      },
      "outputs": [
        {
          "ename": "",
          "evalue": "",
          "output_type": "error",
          "traceback": [
            "\u001b[1;31mRunning cells with 'c:\\Users\\subhadip\\AppData\\Local\\Programs\\Python\\Python311\\python.exe' requires the ipykernel package.\n",
            "\u001b[1;31mRun the following command to install 'ipykernel' into the Python environment. \n",
            "\u001b[1;31mCommand: 'c:/Users/subhadip/AppData/Local/Programs/Python/Python311/python.exe -m pip install ipykernel -U --user --force-reinstall'"
          ]
        }
      ],
      "source": [
        "from scipy.stats import spearmanr\n",
        "\n",
        "# Calculate Spearman rank correlation coefficient for the 'volume' index in df1\n",
        "spearman_corr_df1, p_value_df1 = spearmanr(df1['open'], df1['volume'])\n",
        "\n",
        "# Calculate Spearman rank correlation coefficient for the 'volume' index in df2\n",
        "spearman_corr_df2, p_value_df2 = spearmanr(df2['open'], df2['volume'])\n",
        "\n",
        "print(\"Spearman rank correlation coefficient for df1:\", spearman_corr_df1)\n",
        "print(\"Spearman rank correlation coefficient for df2:\", spearman_corr_df2)\n"
      ]
    },
    {
      "cell_type": "markdown",
      "metadata": {
        "id": "bJyP6bT_4u3W"
      },
      "source": [
        "## Mann-Whitney U test"
      ]
    },
    {
      "cell_type": "markdown",
      "metadata": {
        "id": "McEWcY7-_OII"
      },
      "source": [
        "### Assumption:\n",
        "* Null Hypothesis: There is no significant difference between the distributions\n",
        "* Alternate Hypothesis: There is significant difference between the distributions"
      ]
    },
    {
      "cell_type": "code",
      "execution_count": null,
      "metadata": {
        "colab": {
          "base_uri": "https://localhost:8080/"
        },
        "id": "67qIfrjo5Tv-",
        "outputId": "3e77b74a-677b-4f70-f923-69f4b6b6cb95"
      },
      "outputs": [
        {
          "ename": "",
          "evalue": "",
          "output_type": "error",
          "traceback": [
            "\u001b[1;31mRunning cells with 'c:\\Users\\subhadip\\AppData\\Local\\Programs\\Python\\Python311\\python.exe' requires the ipykernel package.\n",
            "\u001b[1;31mRun the following command to install 'ipykernel' into the Python environment. \n",
            "\u001b[1;31mCommand: 'c:/Users/subhadip/AppData/Local/Programs/Python/Python311/python.exe -m pip install ipykernel -U --user --force-reinstall'"
          ]
        }
      ],
      "source": [
        "group1 = df1['open']\n",
        "group2 = df2['open']\n",
        "\n",
        "mann_whitney_test = stats.mannwhitneyu(group1, group2)\n",
        "print(\"\\nMann-Whitney U test result: \")\n",
        "print(\"U statistic: \", mann_whitney_test.statistic)\n",
        "print(\"p-value: \", mann_whitney_test.pvalue)\n",
        "\n",
        "if mann_whitney_test.pvalue < 0.05:\n",
        "    print(\"Mann-Whitney U test: Reject the null hypothesis, significant difference between the distributions.\")\n",
        "else:\n",
        "    print(\"Mann-Whitney U test: Fail to reject the null hypothesis, no significant difference between the distributions.\")\n"
      ]
    },
    {
      "cell_type": "markdown",
      "metadata": {
        "id": "EBBOWy_w_i8A"
      },
      "source": [
        "## Wilcoxon signed-rank test for paired samples."
      ]
    },
    {
      "cell_type": "markdown",
      "metadata": {
        "id": "LRqzY4QsBP3c"
      },
      "source": [
        "### Assumption:\n",
        "* Null Hypothesis: There is no significant difference between the paired samples.\n",
        "* Alternate Hypothesis: There is significant difference between the paired samples."
      ]
    },
    {
      "cell_type": "code",
      "execution_count": null,
      "metadata": {
        "colab": {
          "base_uri": "https://localhost:8080/"
        },
        "id": "ruYToYN6_mTA",
        "outputId": "4a97d3b3-2a08-4648-e703-404b80ae1365"
      },
      "outputs": [
        {
          "ename": "",
          "evalue": "",
          "output_type": "error",
          "traceback": [
            "\u001b[1;31mRunning cells with 'c:\\Users\\subhadip\\AppData\\Local\\Programs\\Python\\Python311\\python.exe' requires the ipykernel package.\n",
            "\u001b[1;31mRun the following command to install 'ipykernel' into the Python environment. \n",
            "\u001b[1;31mCommand: 'c:/Users/subhadip/AppData/Local/Programs/Python/Python311/python.exe -m pip install ipykernel -U --user --force-reinstall'"
          ]
        }
      ],
      "source": [
        "from scipy.stats import wilcoxon\n",
        "\n",
        "data1 = df1['open']\n",
        "data2 = df2['open']\n",
        "\n",
        "# Perform the Wilcoxon signed-rank test\n",
        "statistic, p_value = wilcoxon(data1, data2)\n",
        "\n",
        "# Report results\n",
        "print(\"Test statistic:\", statistic)\n",
        "print(\"p-value:\", p_value)\n",
        "\n",
        "# Interpret results\n",
        "if p_value < 0.05:\n",
        "    print(\"Wilcoxon signed-rank test: Reject the null hypothesis, significant difference between the paired samples.\")\n",
        "else:\n",
        "    print(\"Wilcoxon signed-rank test: Fail to reject the null hypothesis, no significant difference between the paired samples.\")\n",
        "\n"
      ]
    },
    {
      "cell_type": "markdown",
      "metadata": {
        "id": "UXmtdfL_CVa2"
      },
      "source": [
        "## Friedman test for comparing multiple paired samples"
      ]
    },
    {
      "cell_type": "code",
      "execution_count": null,
      "metadata": {
        "id": "aH0-AR_QDhZ9"
      },
      "outputs": [
        {
          "ename": "",
          "evalue": "",
          "output_type": "error",
          "traceback": [
            "\u001b[1;31mRunning cells with 'c:\\Users\\subhadip\\AppData\\Local\\Programs\\Python\\Python311\\python.exe' requires the ipykernel package.\n",
            "\u001b[1;31mRun the following command to install 'ipykernel' into the Python environment. \n",
            "\u001b[1;31mCommand: 'c:/Users/subhadip/AppData/Local/Programs/Python/Python311/python.exe -m pip install ipykernel -U --user --force-reinstall'"
          ]
        }
      ],
      "source": [
        "# df3=pd.read_csv(\"/content/ABBV_data.csv\")\n",
        "# df4=pd.read_csv(\"/content/financials.csv\")\n"
      ]
    },
    {
      "cell_type": "markdown",
      "metadata": {
        "id": "RPKq5U9GdDW6"
      },
      "source": [
        "## Assumption:\n",
        "* Null hypothesis: there is no statistically significant differences between the medians of the paired samples.\n",
        "* Alternate hypotheis: there is statistically\n",
        "significant differences between the medians of the paired samples."
      ]
    },
    {
      "cell_type": "code",
      "execution_count": null,
      "metadata": {
        "colab": {
          "base_uri": "https://localhost:8080/"
        },
        "id": "qUvzmesnCVEV",
        "outputId": "75497a8d-2fce-4b8b-ed9f-ffb9e4a5ace6"
      },
      "outputs": [
        {
          "ename": "",
          "evalue": "",
          "output_type": "error",
          "traceback": [
            "\u001b[1;31mRunning cells with 'c:\\Users\\subhadip\\AppData\\Local\\Programs\\Python\\Python311\\python.exe' requires the ipykernel package.\n",
            "\u001b[1;31mRun the following command to install 'ipykernel' into the Python environment. \n",
            "\u001b[1;31mCommand: 'c:/Users/subhadip/AppData/Local/Programs/Python/Python311/python.exe -m pip install ipykernel -U --user --force-reinstall'"
          ]
        }
      ],
      "source": [
        "from scipy.stats import friedmanchisquare\n",
        "\n",
        "df3=pd.read_csv(\"/content/ABBV_data.csv\")\n",
        "indexes = ['open', 'close', 'volume']\n",
        "\n",
        "# Create a list to store the data for each index\n",
        "data = []\n",
        "\n",
        "# Populate the data list with the values from df1 and df2 for each index\n",
        "for index in indexes:\n",
        "   data.append([df1[index], df2[index], df3[index]])\n",
        "\n",
        "statistic, p_value = friedmanchisquare(*data)\n",
        "print(\"Friedman test statistic:\", statistic)\n",
        "print(\"p-value:\", p_value)\n",
        "\n",
        "if p_value < 0.05:\n",
        "    print(\"Friedman test: Reject the null hypothesis, significant difference between the medians of the paired samples.\")\n",
        "else:\n",
        "    print(\"Friedman test: Fail to reject the null hypothesis, no significant difference between the median of the paired samples.\")\n"
      ]
    },
    {
      "cell_type": "markdown",
      "metadata": {
        "id": "n5qFYD4ed2wi"
      },
      "source": [
        "## Visualization"
      ]
    },
    {
      "cell_type": "markdown",
      "metadata": {
        "id": "Z4719g0xq_7J"
      },
      "source": [
        "## Line Chart"
      ]
    },
    {
      "cell_type": "code",
      "execution_count": null,
      "metadata": {
        "colab": {
          "base_uri": "https://localhost:8080/",
          "height": 564
        },
        "id": "aE_N9zCHDKbY",
        "outputId": "74a93d08-0e6f-4c89-eba1-681281806445"
      },
      "outputs": [
        {
          "ename": "",
          "evalue": "",
          "output_type": "error",
          "traceback": [
            "\u001b[1;31mRunning cells with 'c:\\Users\\subhadip\\AppData\\Local\\Programs\\Python\\Python311\\python.exe' requires the ipykernel package.\n",
            "\u001b[1;31mRun the following command to install 'ipykernel' into the Python environment. \n",
            "\u001b[1;31mCommand: 'c:/Users/subhadip/AppData/Local/Programs/Python/Python311/python.exe -m pip install ipykernel -U --user --force-reinstall'"
          ]
        }
      ],
      "source": [
        "# Extracting only the 'open' column from each dataframe\n",
        "open_prices_df1 = df1['open']\n",
        "open_prices_df2 = df2['open']\n",
        "\n",
        "plt.figure(figsize=(10, 6))\n",
        "\n",
        "# Plotting open prices from df1\n",
        "plt.plot(open_prices_df1.index, open_prices_df1.values, label='Open Prices - Stock-1')\n",
        "\n",
        "# Plotting open prices from df2\n",
        "plt.plot(open_prices_df2.index, open_prices_df2.values, label='Open Prices - Stock-2')\n",
        "\n",
        "# Adding labels and legend\n",
        "plt.xlabel('Date')\n",
        "plt.ylabel('Open Price')\n",
        "plt.title('Open Prices Comparison')\n",
        "plt.legend()\n",
        "\n",
        "# Showing the plot\n",
        "plt.show()"
      ]
    },
    {
      "cell_type": "markdown",
      "metadata": {
        "id": "jciMc5B8rCfF"
      },
      "source": [
        "## Histogram"
      ]
    },
    {
      "cell_type": "code",
      "execution_count": null,
      "metadata": {
        "colab": {
          "base_uri": "https://localhost:8080/",
          "height": 573
        },
        "id": "Acg2T5g3eUQu",
        "outputId": "3814d371-b65d-413c-dc79-c3af14a08cb6"
      },
      "outputs": [
        {
          "ename": "",
          "evalue": "",
          "output_type": "error",
          "traceback": [
            "\u001b[1;31mRunning cells with 'c:\\Users\\subhadip\\AppData\\Local\\Programs\\Python\\Python311\\python.exe' requires the ipykernel package.\n",
            "\u001b[1;31mRun the following command to install 'ipykernel' into the Python environment. \n",
            "\u001b[1;31mCommand: 'c:/Users/subhadip/AppData/Local/Programs/Python/Python311/python.exe -m pip install ipykernel -U --user --force-reinstall'"
          ]
        }
      ],
      "source": [
        "# Histogram for 'volume'\n",
        "plt.figure(figsize=(8, 6))\n",
        "sns.histplot(df1['volume'], bins=30, kde=True)\n",
        "plt.title('Volume Distribution')\n",
        "plt.xlabel('Volume')\n",
        "plt.ylabel('Frequency')\n",
        "plt.show()"
      ]
    },
    {
      "cell_type": "code",
      "execution_count": null,
      "metadata": {
        "colab": {
          "base_uri": "https://localhost:8080/",
          "height": 573
        },
        "id": "1bSYXsAzebc6",
        "outputId": "5904414f-78a2-4f27-f799-03739614e52a"
      },
      "outputs": [
        {
          "ename": "",
          "evalue": "",
          "output_type": "error",
          "traceback": [
            "\u001b[1;31mRunning cells with 'c:\\Users\\subhadip\\AppData\\Local\\Programs\\Python\\Python311\\python.exe' requires the ipykernel package.\n",
            "\u001b[1;31mRun the following command to install 'ipykernel' into the Python environment. \n",
            "\u001b[1;31mCommand: 'c:/Users/subhadip/AppData/Local/Programs/Python/Python311/python.exe -m pip install ipykernel -U --user --force-reinstall'"
          ]
        }
      ],
      "source": [
        "# Histogram for 'volume'\n",
        "plt.figure(figsize=(8, 6))\n",
        "sns.histplot(df2['volume'], bins=30, kde=True)\n",
        "plt.title('Volume Distribution')\n",
        "plt.xlabel('Volume')\n",
        "plt.ylabel('Frequency')\n",
        "plt.show()"
      ]
    }
  ],
  "metadata": {
    "colab": {
      "provenance": []
    },
    "kernelspec": {
      "display_name": "Python 3",
      "name": "python3"
    },
    "language_info": {
      "codemirror_mode": {
        "name": "ipython",
        "version": 3
      },
      "file_extension": ".py",
      "mimetype": "text/x-python",
      "name": "python",
      "nbconvert_exporter": "python",
      "pygments_lexer": "ipython3",
      "version": "3.12.1"
    }
  },
  "nbformat": 4,
  "nbformat_minor": 0
}
